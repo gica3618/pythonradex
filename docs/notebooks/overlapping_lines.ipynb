{
 "cells": [
  {
   "cell_type": "markdown",
   "id": "c48d38f9-fc91-4d7f-bb72-f48f3663b2b0",
   "metadata": {},
   "source": [
    "# Overlapping lines"
   ]
  }
 ],
 "metadata": {
  "kernelspec": {
   "display_name": "Python 3 (ipykernel)",
   "language": "python",
   "name": "python3"
  },
  "language_info": {
   "codemirror_mode": {
    "name": "ipython",
    "version": 3
   },
   "file_extension": ".py",
   "mimetype": "text/x-python",
   "name": "python",
   "nbconvert_exporter": "python",
   "pygments_lexer": "ipython3",
   "version": "3.10.12"
  }
 },
 "nbformat": 4,
 "nbformat_minor": 5
}
