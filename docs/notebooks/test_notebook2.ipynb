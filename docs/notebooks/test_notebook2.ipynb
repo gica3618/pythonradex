{
 "cells": [
  {
   "cell_type": "markdown",
   "id": "e0188f64",
   "metadata": {},
   "source": [
    "# A test notebook"
   ]
  },
  {
   "cell_type": "code",
   "execution_count": 1,
   "id": "e9eb3a00",
   "metadata": {},
   "outputs": [
    {
     "name": "stdout",
     "output_type": "stream",
     "text": [
      "4\n"
     ]
    }
   ],
   "source": [
    "x=2\n",
    "print(x**2)"
   ]
  }
 ],
 "metadata": {
  "kernelspec": {
   "display_name": "Python 3 (ipykernel)",
   "language": "python",
   "name": "python3"
  },
  "language_info": {
   "codemirror_mode": {
    "name": "ipython",
    "version": 3
   },
   "file_extension": ".py",
   "mimetype": "text/x-python",
   "name": "python",
   "nbconvert_exporter": "python",
   "pygments_lexer": "ipython3",
   "version": "3.11.5"
  }
 },
 "nbformat": 4,
 "nbformat_minor": 5
}
