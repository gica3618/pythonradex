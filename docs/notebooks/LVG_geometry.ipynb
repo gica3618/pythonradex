{
 "cells": [
  {
   "cell_type": "markdown",
   "id": "3a9dfad3-1f07-4137-b342-5096248b22fd",
   "metadata": {},
   "source": [
    "# LVG geometry"
   ]
  }
 ],
 "metadata": {
  "kernelspec": {
   "display_name": "Python 3 (ipykernel)",
   "language": "python",
   "name": "python3"
  },
  "language_info": {
   "codemirror_mode": {
    "name": "ipython",
    "version": 3
   },
   "file_extension": ".py",
   "mimetype": "text/x-python",
   "name": "python",
   "nbconvert_exporter": "python",
   "pygments_lexer": "ipython3",
   "version": "3.10.12"
  }
 },
 "nbformat": 4,
 "nbformat_minor": 5
}
