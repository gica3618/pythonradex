{
 "cells": [
  {
   "cell_type": "markdown",
   "id": "e0188f64",
   "metadata": {},
   "source": [
    "# Reading files from the LAMDA database"
   ]
  },
  {
   "cell_type": "markdown",
   "id": "aa4b34a7-c1e0-413e-b2b7-1690d010268b",
   "metadata": {},
   "source": [
    "In this notebook, we demonstrate how `pythonradex` can be used to conveniently read atomic data from the [LAMDA database](https://home.strw.leidenuniv.nl/~moldata/)"
   ]
  },
  {
   "cell_type": "code",
   "execution_count": 1,
   "id": "e9eb3a00",
   "metadata": {},
   "outputs": [],
   "source": [
    "from pythonradex import LAMDA_file\n",
    "from scipy import constants\n",
    "datafilepath = 'co.dat'\n",
    "data = LAMDA_file.read(datafilepath,read_frequencies=True)"
   ]
  },
  {
   "cell_type": "markdown",
   "id": "e666f3b2-4dc8-4d8d-8623-88e4a237ea0b",
   "metadata": {},
   "source": [
    "The data is stored in a dictionary containing all levels, radiative transitions and collisional transitions:"
   ]
  },
  {
   "cell_type": "code",
   "execution_count": 2,
   "id": "fefc4725-eaee-402b-98b5-8005ff1b2ca9",
   "metadata": {},
   "outputs": [],
   "source": [
    "levels = data['levels']\n",
    "rad_transitions = data['radiative transitions']\n",
    "coll_transitions = data['collisional transitions']"
   ]
  },
  {
   "cell_type": "markdown",
   "id": "ee6c89ac-d710-49d1-aaaf-8b93c078be68",
   "metadata": {},
   "source": [
    "Lets first look at the levels. This is a list containing all atomic energy levels (in the form of instances of the `Level` class, see the API for details) listed in the file. It is ordered the same way as in the file. Let’s access the statistical weight and energy of the 3rd level as an example (note that the index is zero–based):"
   ]
  },
  {
   "cell_type": "code",
   "execution_count": 3,
   "id": "d22f16c0-d9f3-4f43-bb95-5adb5b49d8b3",
   "metadata": {},
   "outputs": [
    {
     "name": "stdout",
     "output_type": "stream",
     "text": [
      "checking level with index 2\n",
      "g = 5.0\n",
      "E = 2.2913493923384677e-22 J\n"
     ]
    }
   ],
   "source": [
    "level_index = 2\n",
    "print(f'checking level with index {level_index}')\n",
    "print(f'g = {levels[level_index].g}')\n",
    "print(f'E = {levels[level_index].E} J')"
   ]
  },
  {
   "cell_type": "markdown",
   "id": "e8433127-2fd6-4e9a-9107-899761f402b2",
   "metadata": {},
   "source": [
    "Similarly, the radiative transitions are stored in a list, also ordered as they appear in the file. Each element of the list is an instance of the `RadiativeTransition` class (see the API for details). Let’s see how many radiative transitions there are:"
   ]
  },
  {
   "cell_type": "code",
   "execution_count": 4,
   "id": "0bf72bcd-13e5-4f2c-b616-b8149c0fa37a",
   "metadata": {},
   "outputs": [
    {
     "data": {
      "text/plain": [
       "40"
      ]
     },
     "execution_count": 4,
     "metadata": {},
     "output_type": "execute_result"
    }
   ],
   "source": [
    "len(rad_transitions)"
   ]
  },
  {
   "cell_type": "markdown",
   "id": "383645cf-f3e8-4753-a6f8-2610975c6c9a",
   "metadata": {},
   "source": [
    "Let’s look at the 2-1 transition of CO. This is the second transition listed in the file, so its index is 1."
   ]
  },
  {
   "cell_type": "code",
   "execution_count": 5,
   "id": "18cb75e4-e8a4-4460-b522-20ceb504a842",
   "metadata": {},
   "outputs": [],
   "source": [
    "CO_21 = rad_transitions[1]"
   ]
  },
  {
   "cell_type": "markdown",
   "id": "1555feca-456e-4cb4-ad82-485d4d5fb2de",
   "metadata": {},
   "source": [
    "We can access the upper and lower level of the transition. These are instance of the `Level` class:"
   ]
  },
  {
   "cell_type": "code",
   "execution_count": 6,
   "id": "5e6641c7-b5ec-4372-be03-cb2113e21e20",
   "metadata": {},
   "outputs": [
    {
     "name": "stdout",
     "output_type": "stream",
     "text": [
      "statistical weight of upper level: 5.0\n",
      "energy of the lower level: 7.637950693853056e-23 J\n"
     ]
    }
   ],
   "source": [
    "print(f'statistical weight of upper level: {CO_21.up.g}')\n",
    "print(f'energy of the lower level: {CO_21.low.E} J')"
   ]
  },
  {
   "cell_type": "markdown",
   "id": "6e0a5ed0-ec4c-4a97-9e14-0177abf2461b",
   "metadata": {},
   "source": [
    "Let’s look at some of the other attributes of this transition such as frequency, energy difference and Einstein coefficients. For a complete list of the available attributes, please see the API."
   ]
  },
  {
   "cell_type": "code",
   "execution_count": 7,
   "id": "c34e592a-3ea9-4dc5-8f3b-e95750e69fe0",
   "metadata": {},
   "outputs": [
    {
     "name": "stdout",
     "output_type": "stream",
     "text": [
      "rest frequency: 230.538 GHz\n",
      "energy of the transition: 1.527554322953162e-22 J\n",
      "Einstein A21: 6.91e-07\n"
     ]
    }
   ],
   "source": [
    "print(f'rest frequency: {CO_21.nu0/constants.giga} GHz')\n",
    "print(f'energy of the transition: {CO_21.Delta_E} J')\n",
    "print(f'Einstein A21: {CO_21.A21}')"
   ]
  },
  {
   "cell_type": "markdown",
   "id": "56c7a420-78a2-4dcd-a4e7-f5332e9533fe",
   "metadata": {},
   "source": [
    "We can also compute the excitation temperature of the transition for given fractional populations of the lower and upper level (x1 and x2):"
   ]
  },
  {
   "cell_type": "code",
   "execution_count": 8,
   "id": "02009a6d-e1bd-4cfe-b938-9fd650fbd177",
   "metadata": {},
   "outputs": [
    {
     "data": {
      "text/plain": [
       "array(6.87446893)"
      ]
     },
     "execution_count": 8,
     "metadata": {},
     "output_type": "execute_result"
    }
   ],
   "source": [
    "CO_21.Tex(x1=0.3,x2=0.1)"
   ]
  },
  {
   "cell_type": "markdown",
   "id": "09084cb8-f934-497c-afff-23cb89ccc605",
   "metadata": {},
   "source": [
    "Finally, let’s have a look at the collisional transitions. This is a dictionary containing the transitions for each collision partner. Let’s see which collision partners are present:"
   ]
  },
  {
   "cell_type": "code",
   "execution_count": 9,
   "id": "3c748031-4d85-4dc8-a0f4-21925284b0b7",
   "metadata": {},
   "outputs": [
    {
     "data": {
      "text/plain": [
       "dict_keys(['para-H2', 'ortho-H2'])"
      ]
     },
     "execution_count": 9,
     "metadata": {},
     "output_type": "execute_result"
    }
   ],
   "source": [
    "coll_transitions.keys()"
   ]
  },
  {
   "cell_type": "markdown",
   "id": "867045a4-cad9-4954-936c-0afefa6821da",
   "metadata": {},
   "source": [
    "Let’s look at collisions with ortho-H2. This is a list with instances of the `CollisionalTransition` class (see API). How many collisional transitions are there?"
   ]
  },
  {
   "cell_type": "code",
   "execution_count": 10,
   "id": "395b0c60-b72e-4202-a978-f8075ecffa16",
   "metadata": {},
   "outputs": [
    {
     "data": {
      "text/plain": [
       "820"
      ]
     },
     "execution_count": 10,
     "metadata": {},
     "output_type": "execute_result"
    }
   ],
   "source": [
    "len(coll_transitions['ortho-H2'])"
   ]
  },
  {
   "cell_type": "markdown",
   "id": "dd9e29ab-5a3b-4226-b3f4-19e0d1be2e0a",
   "metadata": {},
   "source": [
    "Similarly to the radiative transition, there are a number of attributes we can access. Let’s look at a randomly chosen transition:"
   ]
  },
  {
   "cell_type": "code",
   "execution_count": 11,
   "id": "98115b1d-7b0a-47af-8869-3ebbb562ec1f",
   "metadata": {},
   "outputs": [
    {
     "name": "stdout",
     "output_type": "stream",
     "text": [
      "g = 17.0\n",
      "DeltaE = 5.2654882500940636e-21 J\n"
     ]
    }
   ],
   "source": [
    "coll_trans = coll_transitions['ortho-H2'][99]\n",
    "print(f'g = {coll_trans.low.g}')\n",
    "print(f'DeltaE = {coll_trans.Delta_E} J')"
   ]
  },
  {
   "cell_type": "markdown",
   "id": "2db08d3d-22aa-4a8f-b1cb-d83e81212631",
   "metadata": {},
   "source": [
    "Again, see the API to get all attributes. Like for radiative transitions, one can calculate the excitation temperature. In addition, one can get the collisional transition rates. The LAMDA data file provides these rates at specific temperatures. We can request an interpolated rate at any temperature within the limits defined in the file:"
   ]
  },
  {
   "cell_type": "code",
   "execution_count": 12,
   "id": "8a9eee1d-ca50-4641-991c-7b80863b8cd1",
   "metadata": {},
   "outputs": [
    {
     "name": "stdout",
     "output_type": "stream",
     "text": [
      "K12 = 2.482103904202611e-19 m3/s\n",
      "K21 = 6.4704300000000014e-18 m3/s\n"
     ]
    }
   ],
   "source": [
    "K12,K21 = coll_trans.coeffs(Tkin=100.5)\n",
    "print(f'K12 = {K12} m3/s')\n",
    "print(f'K21 = {K21} m3/s')"
   ]
  },
  {
   "cell_type": "markdown",
   "id": "b6b66d45-bc82-46a3-8945-3051130d079c",
   "metadata": {},
   "source": [
    "Numpy arrays are also allowed as input:"
   ]
  },
  {
   "cell_type": "code",
   "execution_count": 13,
   "id": "7e0ef39c-f4cd-4280-bd3c-364bbeea827a",
   "metadata": {},
   "outputs": [
    {
     "name": "stdout",
     "output_type": "stream",
     "text": [
      "K12 [m3/s] = [6.88755045e-21 4.64677588e-20 2.45259938e-19 9.61028767e-19]\n",
      "K21 [m3/s] = [5.929830e-18 6.136280e-18 6.466572e-18 7.112992e-18]\n"
     ]
    }
   ],
   "source": [
    "import numpy as np\n",
    "Tkin = np.array((52.3,70.4,100.2,150.4))\n",
    "K12,K21 = coll_trans.coeffs(Tkin=Tkin)\n",
    "print(f'K12 [m3/s] = {K12}')\n",
    "print(f'K21 [m3/s] = {K21}')"
   ]
  }
 ],
 "metadata": {
  "kernelspec": {
   "display_name": "Python 3 (ipykernel)",
   "language": "python",
   "name": "python3"
  },
  "language_info": {
   "codemirror_mode": {
    "name": "ipython",
    "version": 3
   },
   "file_extension": ".py",
   "mimetype": "text/x-python",
   "name": "python",
   "nbconvert_exporter": "python",
   "pygments_lexer": "ipython3",
   "version": "3.10.12"
  }
 },
 "nbformat": 4,
 "nbformat_minor": 5
}
