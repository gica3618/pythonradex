{
 "cells": [
  {
   "cell_type": "markdown",
   "id": "7d2874d8-fc32-4b58-8900-3e4f43c3d5c7",
   "metadata": {},
   "source": [
    "# Getting started with `pythonradx`"
   ]
  },
  {
   "cell_type": "markdown",
   "id": "b8132403-3557-4225-ba92-023f191f7b44",
   "metadata": {},
   "source": [
    "`pythonradex` is used to solve the non-LTE radiative transfer in a 1D geometry. It can include effects of dust continuum and overlapping lines. Here we look at the main functionalities provided by pythonradex.\n",
    "\n",
    "Note that all input and output for `pythonradex` is in SI units."
   ]
  },
  {
   "cell_type": "markdown",
   "id": "c838e4ef-e0a0-4933-9930-24c5ff1726ab",
   "metadata": {},
   "source": [
    "## Initialisation"
   ]
  },
  {
   "cell_type": "markdown",
   "id": "db1512b0-e166-4f9d-9277-d49c134013e1",
   "metadata": {},
   "source": [
    "In `pythonradex`, a radiative transfer calculation is conducted using the `Cloud` class thad is contained in the `radiative_transfer` module. Let's have a look how to initialise it. Please refer to the API for more details"
   ]
  },
  {
   "cell_type": "code",
   "execution_count": 1,
   "id": "b5802c72-c6b2-460e-b178-afaad8225aaf",
   "metadata": {},
   "outputs": [],
   "source": [
    "from pythonradex import radiative_transfer,helpers\n",
    "from scipy import constants\n",
    "import numpy as np\n",
    "import matplotlib.pyplot as plt"
   ]
  },
  {
   "cell_type": "markdown",
   "id": "ef15fa94-af1c-4d62-95fd-7b278bc1be64",
   "metadata": {},
   "source": [
    "We initialise an instance of the `Cloud` class, giving details for all available parameters:"
   ]
  },
  {
   "cell_type": "code",
   "execution_count": 2,
   "id": "98a86a5a-9584-4c93-938b-34a2c3931ba5",
   "metadata": {},
   "outputs": [],
   "source": [
    "# Filepath to the file containing molecular data. The file needs to follow the LAMDA format and is\n",
    "#usually downloaded from the LAMDA database (https://home.strw.leidenuniv.nl/~moldata/)\n",
    "datafilepath = './co.dat' #CO\n",
    "\n",
    "#The geometry of the cloud. Please the documentation for more details. Available options: 'uniform sphere',\n",
    "#'uniform sphere RADEX' (emulating RADEX, i.e. wrong flux calculation),'uniform slab', 'LVG slab',\n",
    "#'LVG sphere', 'LVG sphere RADEX' (emulating RADEX)\n",
    "geometry = 'uniform sphere'\n",
    "\n",
    "#The shape of the intrinsic emission line profile. Available options: 'rectangular' and 'Gaussian'. Note that for LVG geometries, only\n",
    "#rectangular is allowed\n",
    "line_profile_type = 'Gaussian'\n",
    "\n",
    "#The width of the emission line in velocity space. For a Gaussian, this corresponds to the FWHM. Note that pythonradex uses SI units,\n",
    "#so this needs to be given in m/s\n",
    "width_v = 1.5*constants.kilo #1500 m/s = 1.5 km/s\n",
    "\n",
    "#additional available parameters, which we leave at their default values:\n",
    "\n",
    "# - use_Ng_acceleration: Whether to use Ng acceleration to speed up convergence. Defaults to True.\n",
    "\n",
    "# - treat_line_overlap: Whether to treat line overlap effects (i.e. emission lines that overlap in frequency).\n",
    "#   This option is computationally expensive. Not allowed for LVG geometries. Defaults to False.\n",
    "#   There is a dedicated example notebook demonstrating this capability.\n",
    "\n",
    "# - warn_negative_tau: Whether to warn the user if negative optical depth occurs for any transition. Defaults to True.\n",
    "\n",
    "# - verbose: Whether to print out additional info. Defaults to False.\n",
    "\n",
    "# - test_mode: Whether to activate test mode. Only for developers, should be left to its default in general (False).\n",
    "\n",
    "cloud = radiative_transfer.Cloud(\n",
    "               datafilepath=datafilepath,geometry=geometry,\n",
    "               line_profile_type=line_profile_type,width_v=width_v)"
   ]
  },
  {
   "cell_type": "markdown",
   "id": "4efd2f9d-b6d0-46a6-81dc-4e3d7f9fa836",
   "metadata": {},
   "source": [
    "## Setting the cloud parameters"
   ]
  },
  {
   "cell_type": "markdown",
   "id": "12ff6550-cc38-45d0-8436-e4dd1d24ff46",
   "metadata": {},
   "source": [
    "Next, we are going to set the parameters characterising the cloud physical conditions:"
   ]
  },
  {
   "cell_type": "code",
   "execution_count": 3,
   "id": "55458bab-d095-49f8-8a14-4f163bfb4b53",
   "metadata": {},
   "outputs": [],
   "source": [
    "#The column density, in units of m-2\n",
    "N = 1e14/constants.centi**2\n",
    "\n",
    "#The kinetic temperature of the gas in units of K\n",
    "Tkin = 120\n",
    "\n",
    "#The number density of colliders, in dictionary format, in units of m-3. The following colliders are\n",
    "#recognised: \"H2\", \"para-H2\", \"ortho-H2\", \"e\", \"H\", \"He\", \"H+\". Obviously, only colliders present\n",
    "#in the data file can be used here. For CO, we can use para-H2 and ortho-H2\n",
    "collider_densities = {'para-H2':1e4/constants.centi**3,'ortho-H2':3e4/constants.centi**3}\n",
    "\n",
    "#The external background radiation. This is the radiation field that irradiates the cloud from the exterior and can\n",
    "#affect the excitation conditions. The user can provide a custom radiation field by providing a function that takes\n",
    "#a frequency array as input and returns the radiation field in units of #W/m2/Hz/sr. The commonly used CMB background\n",
    "#can by used via the helpers module. One can also set this parameter to a number, which is interpreted as a constant\n",
    "#value over frequency. So if no external background is desired, simply set this parameter to 0\n",
    "#examples:\n",
    "# def ext_background(nu):\n",
    "    #return helpers.B_nu(nu=nu,T=200) # a black body at 200 K\n",
    "#ext_background = 0 #no external background\n",
    "ext_background = helpers.generate_CMB_background(z=1.3) #CMB at redshift 1.3\n",
    "\n",
    "#Temperature and optical depth of the dust continuum radiation field, which is internal to the cloud (i.e. the dust is mixed with the gas).\n",
    "#The dust temperature defines the source function of the field by setting it equal to the Planck law (black body)\n",
    "#The user can provide custom T_dust and tau_dust functions, which should take an array of frequencies as input.\n",
    "#One can als provide a number, which is interpreted as constant value. Thus, to ignore dust, simply put both parameters to 0\n",
    "#There is a dedicated notebook discussing dust effects\n",
    "#examples:\n",
    "#def T_dust(nu):\n",
    "#    nu0 = 100*constants.giga #some reference frequency\n",
    "#    return 100*(nu/nu0) # dust temperature proportional to frequency\n",
    "#T_dust = 80 #constant dust temperature for all frequencies\n",
    "#tau_dust = 0.05 #constant optical depth for all frequencies\n",
    "T_dust, tau_dust = 0,0 #no dust\n",
    "\n",
    "#all of these parameters need to be specified when update_parameters is called for the first time\n",
    "#later, we can use the same function to only update a subset of parameters\n",
    "cloud.update_parameters(N=N,Tkin=Tkin,collider_densities=collider_densities,\n",
    "                        ext_background=ext_background,T_dust=T_dust,tau_dust=tau_dust)"
   ]
  },
  {
   "cell_type": "markdown",
   "id": "7b52f447-31af-4ae7-8a54-f4c1c2d5b244",
   "metadata": {},
   "source": [
    "## Solve the radiative transfer"
   ]
  },
  {
   "cell_type": "markdown",
   "id": "185f0a0a-8818-4725-aa8e-b202904e3f33",
   "metadata": {},
   "source": [
    "Next, we solve the radiative transfer (i.e. calculate the level population with an iterative method)"
   ]
  },
  {
   "cell_type": "code",
   "execution_count": 4,
   "id": "faf05882-4a8c-4fa5-a8ad-39bba1e30567",
   "metadata": {},
   "outputs": [],
   "source": [
    "cloud.solve_radiative_transfer()"
   ]
  },
  {
   "cell_type": "markdown",
   "id": "475af0d1-8076-4b66-b48b-cdc3466ee8c7",
   "metadata": {},
   "source": [
    "## Inspect the results"
   ]
  },
  {
   "cell_type": "markdown",
   "id": "e2c82543-5829-4219-b5a4-8abb14267a89",
   "metadata": {},
   "source": [
    "### Level population, excitation temperature, optical depth at $\\nu_0$"
   ]
  },
  {
   "cell_type": "markdown",
   "id": "5df5505e-a391-435a-9246-e8414555ba3b",
   "metadata": {},
   "source": [
    "Let's inspect some basic results of the calculation: the level population, excitation temperature and optical depth at the rest frequency"
   ]
  },
  {
   "cell_type": "code",
   "execution_count": 5,
   "id": "de0e7868-edf3-4c22-8d29-19aa1f6433b5",
   "metadata": {},
   "outputs": [
    {
     "name": "stdout",
     "output_type": "stream",
     "text": [
      "fractional population of level 1: 0.11\n",
      "fractional population of level 4: 0.19\n",
      "level 3 is the most populated (fractional level population = 0.21)\n"
     ]
    }
   ],
   "source": [
    "#fractional level population of the 2rd and 5th levels (as listed in the LAMDA file), thus indices are 1 and 4\n",
    "level_indices = (1,4)\n",
    "for i in level_indices:\n",
    "    level_pop = cloud.level_pop[i]\n",
    "    print(f'fractional population of level {i}: {level_pop:.2g}')\n",
    "#find the level with the highest fractional population:\n",
    "most_populated_level = np.argmax(cloud.level_pop)\n",
    "max_level_pop = np.max(cloud.level_pop)\n",
    "print(f'level {most_populated_level} is the most populated (fractional level population = {max_level_pop:.3g})')"
   ]
  },
  {
   "cell_type": "markdown",
   "id": "514ea224-63a5-446f-a0f2-b10bc7910fae",
   "metadata": {},
   "source": [
    "The optical depth at the rest frequency $\\nu_0$ does not include the contribution of dust or overlapping lines; it is just the optical depth of the request transition, not the total optical depht."
   ]
  },
  {
   "cell_type": "code",
   "execution_count": 6,
   "id": "38ad7fa6-c16c-4aa8-868d-bc682df45ee3",
   "metadata": {},
   "outputs": [
    {
     "name": "stdout",
     "output_type": "stream",
     "text": [
      "transition 2: Tex = 103 K, tau_nu0 = 0.00149\n",
      "transition 5: Tex = 44.8 K, tau_nu0 = 0.00365\n"
     ]
    }
   ],
   "source": [
    "# let's consider the 3st and 6st transition in the LAMDA file (CO 3-2 and CO 6-5), with indices 2 and 5\n",
    "transition_indices = (2,5)\n",
    "for i in transition_indices:\n",
    "    tau_nu0 = cloud.tau_nu0_individual_transitions[i]\n",
    "    Tex = cloud.Tex[i]\n",
    "    print(f'transition {i}: Tex = {Tex:.3g} K, tau_nu0 = {tau_nu0:.3g}')"
   ]
  },
  {
   "cell_type": "markdown",
   "id": "9797e099-cf64-4ea9-8896-31297b018ccb",
   "metadata": {},
   "source": [
    "### Fluxes of transitions"
   ]
  },
  {
   "cell_type": "markdown",
   "id": "a4bed42c-45fb-43b1-82d4-40abb6640fa3",
   "metadata": {},
   "source": [
    "Let's first look at the flux of some transitions we are interested in. For example, imaging we are interested in CO 1-0 and CO 4-3. In the LAMDA file, these two transitions appear in 1st and 4st position, so their indices are 0 and 3. Note that this calculation is only possible if the dust is optically thin. Similarly, for overlapping lines, the calculation is only possible if all overlapping lines are optically thin.\n",
    "\n",
    "We also need to define the solid angle of the source."
   ]
  },
  {
   "cell_type": "code",
   "execution_count": 7,
   "id": "8f6d307d-5776-4037-a959-fefce12c961b",
   "metadata": {},
   "outputs": [
    {
     "name": "stdout",
     "output_type": "stream",
     "text": [
      "flux of transition 0: 2.41e-26 W/m2\n",
      "flux of transition 3: 1.41e-23 W/m2\n"
     ]
    }
   ],
   "source": [
    "flux_transitions = [0,3] #the indices of the transitions we want the flux for\n",
    "R = 10*constants.au #assume our sphere has a radius of 10 au\n",
    "distance = 100*constants.parsec #assume the source is at a distance of 100 pc\n",
    "solid_angle = R**2*np.pi/distance**2\n",
    "\n",
    "fluxes = cloud.fluxes_of_individual_transitions(transitions=flux_transitions,solid_angle=solid_angle)\n",
    "for index,f in zip(flux_transitions,fluxes):\n",
    "    print(f'flux of transition {index}: {f:.3g} W/m2')"
   ]
  },
  {
   "cell_type": "markdown",
   "id": "a9e840f9-01a5-4bcb-a3f4-78f474b16c9f",
   "metadata": {},
   "source": [
    "### Spectrum and total optical depth"
   ]
  },
  {
   "cell_type": "markdown",
   "id": "96d199c0-ec53-446c-a21a-47f7f73cb8dd",
   "metadata": {},
   "source": [
    "We can also request a spectrum of emission (flux as function of frequency) and the total optical depth at arbitrary frequencies. It is often easiest to define a range of velocities and convert it to a frequency range."
   ]
  },
  {
   "cell_type": "code",
   "execution_count": 8,
   "id": "47395753-207e-463f-a107-a0f0d409282c",
   "metadata": {},
   "outputs": [
    {
     "data": {
      "image/png": "[encoded data removed]",
      "text/plain": [
       "<Figure size 640x480 with 2 Axes>"
      ]
     },
     "metadata": {},
     "output_type": "display_data"
    }
   ],
   "source": [
    "v = np.linspace(-2*width_v,2*width_v,50) #m/s\n",
    "#retrieve the rest frequency of CO 2-1\n",
    "nu0 = cloud.emitting_molecule.nu0[1] #Hz\n",
    "nu = nu0*(1-v/constants.c) #Hz\n",
    "tau_nu = cloud.tau_nu(nu=nu) #total optical depth as function of nu\n",
    "spectrum = cloud.spectrum(nu=nu,solid_angle=solid_angle) #spectrum of CO 2-1\n",
    "\n",
    "fig,axes = plt.subplots(ncols=2)\n",
    "fig.suptitle('CO 2-1')\n",
    "axes[0].plot(v/constants.kilo,spectrum)\n",
    "axes[0].set_ylabel(r'flux [W/m$^2$/Hz]')\n",
    "axes[1].plot(v/constants.kilo,tau_nu)\n",
    "axes[1].set_ylabel('optical depth [-]')\n",
    "\n",
    "for ax in axes:\n",
    "    ax.set_xlabel('v [km/s]')\n",
    "fig.tight_layout()"
   ]
  },
  {
   "cell_type": "markdown",
   "id": "d22e5e01-dd7b-4908-aade-f935cbe30682",
   "metadata": {},
   "source": [
    "### printing an overview of the results"
   ]
  },
  {
   "cell_type": "markdown",
   "id": "7052eb17-f941-48e2-aed7-2247f172a837",
   "metadata": {},
   "source": [
    "An overview of the results can be printed to the console. For each transition, it lists the indices of the upper and lower level, the rest frequency, the excitation temperature, the fractional population of the lower and upper level, and the optical depth of the transition at the rest frequency"
   ]
  },
  {
   "cell_type": "code",
   "execution_count": 9,
   "id": "bd59444b-e967-4c98-98da-52f0b31a2b3a",
   "metadata": {},
   "outputs": [
    {
     "name": "stdout",
     "output_type": "stream",
     "text": [
      "\n",
      "\n",
      "  up   low      nu0 [GHz]    T_ex [K]      poplow         popup         tau_nu0\n",
      "   1    0     115.271202     339.01      0.0379612        0.11204    5.82035e-05\n",
      "   2    1     230.538000     188.53        0.11204        0.17609     0.00040302\n",
      "   3    2     345.795990     102.69        0.17609       0.209737      0.0014917\n",
      "   4    3     461.040768      65.53       0.209737       0.192387     0.00324338\n",
      "   5    4     576.267931      50.52       0.192387       0.136013     0.00424651\n",
      "   6    5     691.473076      44.76       0.136013        0.07659      0.0036521\n",
      "   7    6     806.651806      43.15        0.07659      0.0360304     0.00229127\n",
      "   8    7     921.799700      43.66      0.0360304      0.0148235     0.00114472\n",
      "   9    8    1036.912393      45.30      0.0148235     0.00552344    0.000487533\n",
      "  10    9    1151.985452      47.50     0.00552344     0.00190625    0.000185507\n",
      "  11   10    1267.014486      50.14     0.00190625    0.000620812    6.48427e-05\n",
      "  12   11    1381.995105      53.37    0.000620812    0.000194739    2.11871e-05\n",
      "  13   12    1496.922909      56.92    0.000194739    5.95351e-05    6.64011e-06\n",
      "  14   13    1611.793518      58.44    5.95351e-05    1.70181e-05    2.06104e-06\n",
      "  15   14    1726.602506      59.60    1.70181e-05    4.52996e-06    5.97712e-07\n",
      "  16   15    1841.345506      63.30    4.52996e-06    1.19389e-06    1.58035e-07\n",
      "  17   16    1956.018139      64.15    1.19389e-06    2.93088e-07     4.2162e-08\n",
      "  18   17    2070.615993      66.10    2.93088e-07     6.8906e-08    1.03773e-08\n",
      "  19   18    2185.134680      68.85     6.8906e-08    1.58348e-08    2.43054e-09\n",
      "  20   19    2299.569842      70.24    1.58348e-08    3.45889e-09    5.60329e-10\n",
      "  21   20    2413.917113      71.11    3.45889e-09    7.11385e-10     1.2296e-10\n",
      "  22   21    2528.172060      72.40    7.11385e-10     1.3931e-10    2.52958e-11\n",
      "  23   22    2642.330346      73.93     1.3931e-10    2.61781e-11    4.94639e-12\n",
      "  24   23    2756.387584      75.53    2.61781e-11    4.73559e-12    9.26398e-13\n",
      "  25   24    2870.339407      76.48    4.73559e-12    8.13772e-13    1.67311e-13\n",
      "  26   25    2984.181455      77.00    8.13772e-13    1.31656e-13    2.87198e-14\n",
      "  27   26    3097.909361      77.80    1.31656e-13    2.02096e-14    4.62979e-15\n",
      "  28   27    3211.518751      79.04    2.02096e-14    2.97986e-15     7.0646e-16\n",
      "  29   28    3325.005283      80.69    2.97986e-15     4.2685e-16    1.03198e-16\n",
      "  30   29    3438.364611      82.28     4.2685e-16    5.93986e-17    1.46417e-17\n",
      "  31   30    3551.592361      82.13    5.93986e-17    7.69922e-18    2.02938e-18\n",
      "  32   31    3664.684180      83.03    7.69922e-18    9.55073e-19    2.60756e-19\n",
      "  33   32    3777.635728      83.46    9.55073e-19    1.12145e-19    3.20721e-20\n",
      "  34   33    3890.442717      84.77    1.12145e-19    1.27643e-20    3.71908e-21\n",
      "  35   34    4003.100788      85.40    1.27643e-20    1.38494e-21    4.18612e-22\n",
      "  36   35    4115.605585      86.45    1.38494e-21    1.44968e-22    4.48153e-23\n",
      "  37   36    4227.952774      87.26    1.44968e-22    1.45587e-23    4.62971e-24\n",
      "  38   37    4340.138112      86.88    1.45587e-23     1.3593e-24    4.59757e-25\n",
      "  39   38    4452.157122      88.23     1.3593e-24    1.23802e-25    4.22038e-26\n",
      "  40   39    4564.005640      85.84    1.23802e-25    9.89416e-27    3.81316e-27\n",
      "\n",
      "\n"
     ]
    }
   ],
   "source": [
    "cloud.print_results()"
   ]
  },
  {
   "cell_type": "markdown",
   "id": "61329f0b-a8b9-4525-80f9-f245e52f3ebb",
   "metadata": {},
   "source": [
    "## Change the cloud parameters"
   ]
  },
  {
   "cell_type": "markdown",
   "id": "b7e7d3b3-68c1-4424-9fe5-ee75cd27b190",
   "metadata": {},
   "source": [
    "We can update the cloud parameters for another calculation. We can update a single parameter, or several parameters at the same time. We can update the column density, kinetic gas temperature, collider densities, external background, dust temperature and dust optical depth.\n",
    "\n",
    "For example, let's change the kinetic temperature and solve again:"
   ]
  },
  {
   "cell_type": "code",
   "execution_count": 10,
   "id": "a25f201e-1485-459f-a0ae-1ac8281f41e4",
   "metadata": {},
   "outputs": [
    {
     "name": "stdout",
     "output_type": "stream",
     "text": [
      "transition 2: Tex = 16.7 K, tau_nu0 = 0.011\n",
      "transition 5: Tex = 14.2 K, tau_nu0 = 0.000396\n"
     ]
    }
   ],
   "source": [
    "new_Tkin = 20\n",
    "cloud.update_parameters(Tkin=new_Tkin)\n",
    "cloud.solve_radiative_transfer()\n",
    "\n",
    "for i in transition_indices:\n",
    "    tau_nu0 = cloud.tau_nu0_individual_transitions[i]\n",
    "    Tex = cloud.Tex[i]\n",
    "    print(f'transition {i}: Tex = {Tex:.3g} K, tau_nu0 = {tau_nu0:.3g}')"
   ]
  },
  {
   "cell_type": "markdown",
   "id": "b34e2c1f-49b2-4a0d-8ff8-162faf9cf04c",
   "metadata": {},
   "source": [
    "The excitation temperatures are now much lower."
   ]
  },
  {
   "cell_type": "markdown",
   "id": "5a67d3f3-93ec-4025-9586-a5df75da4374",
   "metadata": {},
   "source": [
    "## Run a grid of models"
   ]
  },
  {
   "cell_type": "markdown",
   "id": "7a757a9a-d52e-41e4-b011-9087a04a5ff6",
   "metadata": {},
   "source": [
    "`pythonradex` provides a convenience function to run a grid of models. Please see the corresponding example notebook."
   ]
  }
 ],
 "metadata": {
  "kernelspec": {
   "display_name": "Python 3 (ipykernel)",
   "language": "python",
   "name": "python3"
  },
  "language_info": {
   "codemirror_mode": {
    "name": "ipython",
    "version": 3
   },
   "file_extension": ".py",
   "mimetype": "text/x-python",
   "name": "python",
   "nbconvert_exporter": "python",
   "pygments_lexer": "ipython3",
   "version": "3.10.12"
  }
 },
 "nbformat": 4,
 "nbformat_minor": 5
}
